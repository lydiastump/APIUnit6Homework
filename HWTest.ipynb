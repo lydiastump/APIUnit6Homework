{
 "cells": [
  {
   "cell_type": "code",
   "execution_count": 72,
   "metadata": {},
   "outputs": [],
   "source": [
    "# Dependencies and Setup\n",
    "import matplotlib.pyplot as plt\n",
    "import pandas as pd\n",
    "import numpy as np\n",
    "import requests\n",
    "import time\n",
    "import datetime\n",
    "\n",
    "api_key = '7ee3dcc9d04c5bf5f50a7ecb54def548'"
   ]
  },
  {
   "cell_type": "code",
   "execution_count": 73,
   "metadata": {},
   "outputs": [
    {
     "name": "stdout",
     "output_type": "stream",
     "text": [
      "Processing Record 1 of Set 1 | London\n",
      "Processing Record 2 of Set 1 | Seattle\n",
      "Processing Record 3 of Set 1 | Chicago\n",
      "Processing Record 4 of Set 1 | Paris\n"
     ]
    }
   ],
   "source": [
    "target_url = \"http://api.openweathermap.org/data/2.5/weather??\"\n",
    "cities = ['London', 'Seattle', 'Chicago', 'Paris']\n",
    "\n",
    "\n",
    "\n",
    "\n",
    "city_name = []\n",
    "cloudiness = []\n",
    "countries = []\n",
    "date = []\n",
    "humidity = []\n",
    "lat = []\n",
    "lng = []\n",
    "max_temp = []\n",
    "wind_speed = []\n",
    "\n",
    "record = 1\n",
    "set = 1\n",
    "\n",
    "\n",
    "for city in cities:\n",
    "    \n",
    "    try:\n",
    "        response = requests.get(f'{target_url}&APPID={api_key}&q={city}&units=imperial').json()\n",
    "        city_name.append(response['name'])\n",
    "        cloudiness.append(response['clouds']['all'])\n",
    "        countries.append(response['sys']['country'])\n",
    "        date.append(response['dt'])\n",
    "        humidity.append(response['main']['humidity'])\n",
    "        lat.append(response['coord']['lat'])\n",
    "        lng.append(response['coord']['lon'])\n",
    "        max_temp.append(response['main']['temp_max'])\n",
    "        wind_speed.append(response['wind']['speed'])\n",
    "        city_record = response['name']\n",
    "\n",
    "        print(f'Processing Record {record} of Set {set} | {city_record}')\n",
    "        record = record + 1\n",
    "\n",
    "\n",
    "        if record == 50:\n",
    "            time.sleep(60)\n",
    "            record = 0\n",
    "            set = set + 1\n",
    "    except:\n",
    "       print('City not found. Skipping...')\n"
   ]
  },
  {
   "cell_type": "code",
   "execution_count": 74,
   "metadata": {},
   "outputs": [
    {
     "data": {
      "text/html": [
       "<div>\n",
       "<style scoped>\n",
       "    .dataframe tbody tr th:only-of-type {\n",
       "        vertical-align: middle;\n",
       "    }\n",
       "\n",
       "    .dataframe tbody tr th {\n",
       "        vertical-align: top;\n",
       "    }\n",
       "\n",
       "    .dataframe thead th {\n",
       "        text-align: right;\n",
       "    }\n",
       "</style>\n",
       "<table border=\"1\" class=\"dataframe\">\n",
       "  <thead>\n",
       "    <tr style=\"text-align: right;\">\n",
       "      <th></th>\n",
       "      <th>City</th>\n",
       "      <th>Country</th>\n",
       "      <th>Cloudiness</th>\n",
       "      <th>Date</th>\n",
       "      <th>Humidity</th>\n",
       "      <th>Latitude</th>\n",
       "      <th>Longitude</th>\n",
       "      <th>Temperature</th>\n",
       "      <th>Wind Speed</th>\n",
       "    </tr>\n",
       "  </thead>\n",
       "  <tbody>\n",
       "    <tr>\n",
       "      <th>0</th>\n",
       "      <td>London</td>\n",
       "      <td>GB</td>\n",
       "      <td>24</td>\n",
       "      <td>1553377710</td>\n",
       "      <td>70</td>\n",
       "      <td>51.51</td>\n",
       "      <td>-0.13</td>\n",
       "      <td>48.99</td>\n",
       "      <td>5.82</td>\n",
       "    </tr>\n",
       "    <tr>\n",
       "      <th>1</th>\n",
       "      <td>Seattle</td>\n",
       "      <td>US</td>\n",
       "      <td>40</td>\n",
       "      <td>1553377806</td>\n",
       "      <td>50</td>\n",
       "      <td>47.60</td>\n",
       "      <td>-122.33</td>\n",
       "      <td>60.01</td>\n",
       "      <td>6.93</td>\n",
       "    </tr>\n",
       "    <tr>\n",
       "      <th>2</th>\n",
       "      <td>Chicago</td>\n",
       "      <td>US</td>\n",
       "      <td>1</td>\n",
       "      <td>1553377729</td>\n",
       "      <td>37</td>\n",
       "      <td>41.88</td>\n",
       "      <td>-87.62</td>\n",
       "      <td>55.99</td>\n",
       "      <td>5.75</td>\n",
       "    </tr>\n",
       "    <tr>\n",
       "      <th>3</th>\n",
       "      <td>Paris</td>\n",
       "      <td>FR</td>\n",
       "      <td>20</td>\n",
       "      <td>1553377572</td>\n",
       "      <td>76</td>\n",
       "      <td>48.86</td>\n",
       "      <td>2.35</td>\n",
       "      <td>51.01</td>\n",
       "      <td>3.36</td>\n",
       "    </tr>\n",
       "  </tbody>\n",
       "</table>\n",
       "</div>"
      ],
      "text/plain": [
       "      City Country  Cloudiness        Date  Humidity  Latitude  Longitude  \\\n",
       "0   London      GB          24  1553377710        70     51.51      -0.13   \n",
       "1  Seattle      US          40  1553377806        50     47.60    -122.33   \n",
       "2  Chicago      US           1  1553377729        37     41.88     -87.62   \n",
       "3    Paris      FR          20  1553377572        76     48.86       2.35   \n",
       "\n",
       "   Temperature  Wind Speed  \n",
       "0        48.99        5.82  \n",
       "1        60.01        6.93  \n",
       "2        55.99        5.75  \n",
       "3        51.01        3.36  "
      ]
     },
     "execution_count": 74,
     "metadata": {},
     "output_type": "execute_result"
    }
   ],
   "source": [
    "weather_dict = {'City': city_name, 'Country': countries, 'Cloudiness': cloudiness,  'Date': date, 'Humidity': humidity, 'Latitude': lat, 'Longitude': lng, 'Temperature': max_temp, 'Wind Speed': wind_speed}\n",
    "weather_df = pd.DataFrame(weather_dict)\n",
    "\n",
    "weather_df"
   ]
  },
  {
   "cell_type": "code",
   "execution_count": 91,
   "metadata": {},
   "outputs": [
    {
     "data": {
      "image/png": "[encoded data removed]",
      "text/plain": [
       "<Figure size 720x576 with 1 Axes>"
      ]
     },
     "metadata": {
      "needs_background": "light"
     },
     "output_type": "display_data"
    },
    {
     "data": {
      "text/plain": [
       "<Figure size 432x288 with 0 Axes>"
      ]
     },
     "metadata": {},
     "output_type": "display_data"
    }
   ],
   "source": [
    "#plot latitude vs temperature\n",
    "\n",
    "plt.figure(figsize=(10,8))\n",
    "plt.scatter(weather_df['Latitude'], weather_df['Temperature'], facecolor='blue',\n",
    "            edgecolor='black',\n",
    "            alpha=.5)\n",
    "\n",
    "plt.xlim(-60,80)\n",
    "plt.ylim(0,100)\n",
    "plt.xlabel('Latitude')\n",
    "plt.ylabel('Max Temperature (F)')\n",
    "plt.title(f'City Latitude vs Max Temperature ({datetime.datetime.now()})')\n",
    "plt.grid()\n",
    "plt.show()\n",
    "plt.savefig('latvtemp.png')\n",
    "            \n"
   ]
  },
  {
   "cell_type": "code",
   "execution_count": 86,
   "metadata": {},
   "outputs": [
    {
     "data": {
      "image/png": "[encoded data removed]",
      "text/plain": [
       "<Figure size 720x576 with 1 Axes>"
      ]
     },
     "metadata": {
      "needs_background": "light"
     },
     "output_type": "display_data"
    }
   ],
   "source": [
    "#latitude vs humidity\n",
    "plt.figure(figsize=(10,8))\n",
    "plt.scatter(weather_df['Latitude'], weather_df['Humidity'], facecolor='blue', \n",
    "            edgecolor='black',\n",
    "            alpha=.5)\n",
    "\n",
    "plt.xlim(-60,80)\n",
    "plt.ylim(0,100)\n",
    "plt.xlabel('Latitude')\n",
    "plt.ylabel('Humidity (%)')\n",
    "plt.title(f'City Latitude vs Humidity ({datetime.datetime.now()})')\n",
    "plt.grid()\n",
    "plt.show()\n",
    "plt.savefig('latvhumidity.png')"
   ]
  },
  {
   "cell_type": "code",
   "execution_count": 87,
   "metadata": {},
   "outputs": [
    {
     "data": {
      "image/png": "[encoded data removed]",
      "text/plain": [
       "<Figure size 720x576 with 1 Axes>"
      ]
     },
     "metadata": {
      "needs_background": "light"
     },
     "output_type": "display_data"
    }
   ],
   "source": [
    "#Latitude vs cloudiness\n",
    "plt.figure(figsize=(10,8))\n",
    "plt.scatter(weather_df['Latitude'], weather_df['Cloudiness'], color='blue',\n",
    "            alpha=.5)\n",
    "\n",
    "plt.xlim(-60,80)\n",
    "plt.ylim(0,100)\n",
    "plt.xlabel('Latitude')\n",
    "plt.ylabel('Cloudiness (%)')\n",
    "plt.title(f'City Latitude vs Cloudiness ({datetime.datetime.now()})')\n",
    "plt.grid()\n",
    "plt.show()\n",
    "plt.savefig('latvcloudiness.png')"
   ]
  },
  {
   "cell_type": "code",
   "execution_count": 89,
   "metadata": {},
   "outputs": [
    {
     "data": {
      "image/png": "[encoded data removed]",
      "text/plain": [
       "<Figure size 720x576 with 1 Axes>"
      ]
     },
     "metadata": {
      "needs_background": "light"
     },
     "output_type": "display_data"
    },
    {
     "data": {
      "text/plain": [
       "<Figure size 432x288 with 0 Axes>"
      ]
     },
     "metadata": {},
     "output_type": "display_data"
    }
   ],
   "source": [
    "#latitude vs wind speed\n",
    "plt.figure(figsize=(10,8))\n",
    "plt.scatter(weather_df['Latitude'], weather_df['Wind Speed'], color='blue',\n",
    "            alpha=.5)\n",
    "\n",
    "plt.xlim(-60,80)\n",
    "plt.ylim(0,100)\n",
    "plt.xlabel('Latitude')\n",
    "plt.ylabel('Wind Speed (mph)')\n",
    "plt.title(f'City Latitude vs Wind Speed ({datetime.datetime.now()})')\n",
    "plt.grid()\n",
    "plt.show()\n",
    "plt.savefig('latvwindspeed.png')"
   ]
  },
  {
   "cell_type": "code",
   "execution_count": 46,
   "metadata": {},
   "outputs": [
    {
     "data": {
      "text/plain": [
       "[2.6, 3.1, 2.57, 1.5]"
      ]
     },
     "execution_count": 46,
     "metadata": {},
     "output_type": "execute_result"
    }
   ],
   "source": []
  },
  {
   "cell_type": "code",
   "execution_count": null,
   "metadata": {},
   "outputs": [],
   "source": []
  }
 ],
 "metadata": {
  "kernelspec": {
   "display_name": "Python 3",
   "language": "python",
   "name": "python3"
  },
  "language_info": {
   "codemirror_mode": {
    "name": "ipython",
    "version": 3
   },
   "file_extension": ".py",
   "mimetype": "text/x-python",
   "name": "python",
   "nbconvert_exporter": "python",
   "pygments_lexer": "ipython3",
   "version": "3.7.1"
  }
 },
 "nbformat": 4,
 "nbformat_minor": 2
}
